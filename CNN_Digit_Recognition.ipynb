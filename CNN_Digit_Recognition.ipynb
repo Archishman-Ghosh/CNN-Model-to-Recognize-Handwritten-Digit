{
  "nbformat": 4,
  "nbformat_minor": 0,
  "metadata": {
    "colab": {
      "name": "CNN_Digit_Recognition.ipynb",
      "provenance": [],
      "collapsed_sections": [],
      "mount_file_id": "15JJ8-p7tj9SP0sWSd9GU1qNyAxF0T9BV",
      "authorship_tag": "ABX9TyNkY6ZZfRW1wEtMHl9LbRUK",
      "include_colab_link": true
    },
    "kernelspec": {
      "name": "python3",
      "display_name": "Python 3"
    },
    "accelerator": "GPU"
  },
  "cells": [
    {
      "cell_type": "markdown",
      "metadata": {
        "id": "view-in-github",
        "colab_type": "text"
      },
      "source": [
        "<a href=\"https://colab.research.google.com/github/Archishman-Ghosh/CNN-Model-to-Recognize-Handwritten-Digit/blob/master/CNN_Digit_Recognition.ipynb\" target=\"_parent\"><img src=\"https://colab.research.google.com/assets/colab-badge.svg\" alt=\"Open In Colab\"/></a>"
      ]
    },
    {
      "cell_type": "markdown",
      "metadata": {
        "id": "-ukpBq5W0fQS",
        "colab_type": "text"
      },
      "source": [
        "#**Handwritten Digit Recognition Model**\n",
        "###Applying **Convolutional Neural Networks (CNN)** with *Keras* using *TensorFlow* backend\n",
        "\n",
        "## *-by*  ARCHISHMAN GHOSH"
      ]
    },
    {
      "cell_type": "code",
      "metadata": {
        "id": "_5ZWODW-mLfD",
        "colab_type": "code",
        "colab": {}
      },
      "source": [
        "import keras\n",
        "from keras.datasets import mnist\n",
        "from keras.preprocessing import image\n",
        "from keras.utils import to_categorical\n",
        "from keras import layers, models\n",
        "\n",
        "import pandas as pd\n",
        "import matplotlib.pyplot as plt"
      ],
      "execution_count": 23,
      "outputs": []
    },
    {
      "cell_type": "markdown",
      "metadata": {
        "id": "PugldaDWpruu",
        "colab_type": "text"
      },
      "source": [
        "Loading the dataset :"
      ]
    },
    {
      "cell_type": "code",
      "metadata": {
        "id": "T3GesEqRpf8A",
        "colab_type": "code",
        "colab": {}
      },
      "source": [
        "data = mnist.load_data()"
      ],
      "execution_count": 24,
      "outputs": []
    },
    {
      "cell_type": "markdown",
      "metadata": {
        "id": "G5YIEGh3yhLE",
        "colab_type": "text"
      },
      "source": [
        "Separating the training and testing data -"
      ]
    },
    {
      "cell_type": "code",
      "metadata": {
        "id": "jF5CMs-OZwzq",
        "colab_type": "code",
        "colab": {}
      },
      "source": [
        "(train_images, train_labels), (test_images, test_labels) = data"
      ],
      "execution_count": 25,
      "outputs": []
    },
    {
      "cell_type": "code",
      "metadata": {
        "id": "V2FfPtEKvDKx",
        "colab_type": "code",
        "colab": {
          "base_uri": "https://localhost:8080/",
          "height": 34
        },
        "outputId": "e88f60cd-7331-4d77-e24b-02d43bec0296"
      },
      "source": [
        "len(train_images), len(train_labels), len(test_images), len(test_labels)"
      ],
      "execution_count": 26,
      "outputs": [
        {
          "output_type": "execute_result",
          "data": {
            "text/plain": [
              "(60000, 60000, 10000, 10000)"
            ]
          },
          "metadata": {
            "tags": []
          },
          "execution_count": 26
        }
      ]
    },
    {
      "cell_type": "markdown",
      "metadata": {
        "id": "X1XeOKNdwwei",
        "colab_type": "text"
      },
      "source": [
        "## Reshaping and Normalization of the images :\n",
        "\n",
        "We need to reshape the images to the desired dimensions (here 28x28x1) before using them to train our model.\n",
        "\n",
        "We also need to remember that, our test data as well as the images that the user will provide after training the model, should be reshaped to this same set of dimensions as that of the training data, before putting them for prediction.\n",
        "\n",
        "Originally, all the values of the image data vary within the range 0-255.  \n",
        "So, **Normalization** is required so that all the values are within the range 0-1, which is much easier to work with."
      ]
    },
    {
      "cell_type": "code",
      "metadata": {
        "id": "wsvutP6daWP9",
        "colab_type": "code",
        "colab": {}
      },
      "source": [
        "train_images = train_images.reshape((60000, 28, 28, 1)) #reshaping\n",
        "train_images = train_images.astype('float')/255 #normalization\n",
        "\n",
        "test_images = test_images.reshape((10000, 28, 28, 1)) #reshaping\n",
        "test_images = test_images.astype('float')/255 #normalization"
      ],
      "execution_count": 27,
      "outputs": []
    },
    {
      "cell_type": "markdown",
      "metadata": {
        "id": "y1vM334q27KT",
        "colab_type": "text"
      },
      "source": [
        "Checking some images with their labels -"
      ]
    },
    {
      "cell_type": "code",
      "metadata": {
        "id": "LmqTRPlmygfr",
        "colab_type": "code",
        "colab": {
          "base_uri": "https://localhost:8080/",
          "height": 282
        },
        "outputId": "ce8c2cd9-63d7-4577-f00e-09d2682c3e4c"
      },
      "source": [
        "plt.imshow(image.array_to_img(train_images[80]), cmap=\"gray\")"
      ],
      "execution_count": 28,
      "outputs": [
        {
          "output_type": "execute_result",
          "data": {
            "text/plain": [
              "<matplotlib.image.AxesImage at 0x7f33f03522b0>"
            ]
          },
          "metadata": {
            "tags": []
          },
          "execution_count": 28
        },
        {
          "output_type": "display_data",
          "data": {
            "image/png": "[encoded data removed]",
            "text/plain": [
              "<Figure size 432x288 with 1 Axes>"
            ]
          },
          "metadata": {
            "tags": [],
            "needs_background": "light"
          }
        }
      ]
    },
    {
      "cell_type": "code",
      "metadata": {
        "id": "QyQJiIWIzTW0",
        "colab_type": "code",
        "colab": {
          "base_uri": "https://localhost:8080/",
          "height": 34
        },
        "outputId": "722fcb21-e002-4db0-f4a0-806b9c04120d"
      },
      "source": [
        "train_labels[80]"
      ],
      "execution_count": 29,
      "outputs": [
        {
          "output_type": "execute_result",
          "data": {
            "text/plain": [
              "9"
            ]
          },
          "metadata": {
            "tags": []
          },
          "execution_count": 29
        }
      ]
    },
    {
      "cell_type": "code",
      "metadata": {
        "id": "rOqEMMKhb8p8",
        "colab_type": "code",
        "colab": {
          "base_uri": "https://localhost:8080/",
          "height": 282
        },
        "outputId": "99cb85f6-74ba-4bee-b08f-186712c0a6ff"
      },
      "source": [
        "plt.imshow(image.array_to_img(train_images[0]), cmap=\"gray\")"
      ],
      "execution_count": 30,
      "outputs": [
        {
          "output_type": "execute_result",
          "data": {
            "text/plain": [
              "<matplotlib.image.AxesImage at 0x7f33f032d470>"
            ]
          },
          "metadata": {
            "tags": []
          },
          "execution_count": 30
        },
        {
          "output_type": "display_data",
          "data": {
            "image/png": "[encoded data removed]",
            "text/plain": [
              "<Figure size 432x288 with 1 Axes>"
            ]
          },
          "metadata": {
            "tags": [],
            "needs_background": "light"
          }
        }
      ]
    },
    {
      "cell_type": "code",
      "metadata": {
        "id": "mfVr51Ulzats",
        "colab_type": "code",
        "colab": {
          "base_uri": "https://localhost:8080/",
          "height": 34
        },
        "outputId": "5db5569d-562d-4a7a-86dd-0f14f9150b27"
      },
      "source": [
        "train_labels[0]"
      ],
      "execution_count": 31,
      "outputs": [
        {
          "output_type": "execute_result",
          "data": {
            "text/plain": [
              "5"
            ]
          },
          "metadata": {
            "tags": []
          },
          "execution_count": 31
        }
      ]
    },
    {
      "cell_type": "markdown",
      "metadata": {
        "id": "U_4uWWBty8oh",
        "colab_type": "text"
      },
      "source": [
        "Converting the train_label and test_label data into catagorical form (in array format) -"
      ]
    },
    {
      "cell_type": "code",
      "metadata": {
        "id": "NnrJXbt4chAy",
        "colab_type": "code",
        "colab": {}
      },
      "source": [
        "train_labels_original = train_labels\n",
        "train_labels = to_categorical(train_labels)"
      ],
      "execution_count": 32,
      "outputs": []
    },
    {
      "cell_type": "code",
      "metadata": {
        "id": "EuCA4r-IckSi",
        "colab_type": "code",
        "colab": {
          "base_uri": "https://localhost:8080/",
          "height": 34
        },
        "outputId": "9f423c76-252b-44f4-c102-71339c39906d"
      },
      "source": [
        "train_labels[0]"
      ],
      "execution_count": 33,
      "outputs": [
        {
          "output_type": "execute_result",
          "data": {
            "text/plain": [
              "array([0., 0., 0., 0., 0., 1., 0., 0., 0., 0.], dtype=float32)"
            ]
          },
          "metadata": {
            "tags": []
          },
          "execution_count": 33
        }
      ]
    },
    {
      "cell_type": "code",
      "metadata": {
        "id": "3WTLAKb50yZb",
        "colab_type": "code",
        "colab": {
          "base_uri": "https://localhost:8080/",
          "height": 34
        },
        "outputId": "c5dd5686-b3da-4a03-ed79-ebe170742e39"
      },
      "source": [
        "train_labels_original[0]"
      ],
      "execution_count": 34,
      "outputs": [
        {
          "output_type": "execute_result",
          "data": {
            "text/plain": [
              "5"
            ]
          },
          "metadata": {
            "tags": []
          },
          "execution_count": 34
        }
      ]
    },
    {
      "cell_type": "code",
      "metadata": {
        "id": "r9uAWSJVcla4",
        "colab_type": "code",
        "colab": {}
      },
      "source": [
        "test_labels_original = test_labels\n",
        "test_labels = to_categorical(test_labels)"
      ],
      "execution_count": 35,
      "outputs": []
    },
    {
      "cell_type": "code",
      "metadata": {
        "id": "9pWYJIpLczfe",
        "colab_type": "code",
        "colab": {}
      },
      "source": [
        "model = models.Sequential()"
      ],
      "execution_count": 36,
      "outputs": []
    },
    {
      "cell_type": "markdown",
      "metadata": {
        "id": "UUIjUcgfuYZ0",
        "colab_type": "text"
      },
      "source": [
        "### Adding **layers** to the model :"
      ]
    },
    {
      "cell_type": "markdown",
      "metadata": {
        "id": "PVIy9Z2eunds",
        "colab_type": "text"
      },
      "source": [
        "1st Convolution layer -"
      ]
    },
    {
      "cell_type": "code",
      "metadata": {
        "id": "jq4FLpBXc7VL",
        "colab_type": "code",
        "colab": {
          "base_uri": "https://localhost:8080/",
          "height": 187
        },
        "outputId": "ad7966c8-b038-4184-ef60-271442682231"
      },
      "source": [
        "model.add(layers.Conv2D(32, (3, 3), activation='relu', input_shape=(28, 28, 1)))\n",
        "model.summary()"
      ],
      "execution_count": 37,
      "outputs": [
        {
          "output_type": "stream",
          "text": [
            "Model: \"sequential_2\"\n",
            "_________________________________________________________________\n",
            "Layer (type)                 Output Shape              Param #   \n",
            "=================================================================\n",
            "conv2d_5 (Conv2D)            (None, 26, 26, 32)        320       \n",
            "=================================================================\n",
            "Total params: 320\n",
            "Trainable params: 320\n",
            "Non-trainable params: 0\n",
            "_________________________________________________________________\n"
          ],
          "name": "stdout"
        }
      ]
    },
    {
      "cell_type": "markdown",
      "metadata": {
        "id": "LZoGCpxou1lY",
        "colab_type": "text"
      },
      "source": [
        "1st Pooling layer -"
      ]
    },
    {
      "cell_type": "code",
      "metadata": {
        "id": "A3pzf3hldkr0",
        "colab_type": "code",
        "colab": {
          "base_uri": "https://localhost:8080/",
          "height": 221
        },
        "outputId": "c51272d3-8bf9-4dd0-c3ca-b860a1614422"
      },
      "source": [
        "model.add(layers.MaxPooling2D((2,2)))\n",
        "model.summary()"
      ],
      "execution_count": 38,
      "outputs": [
        {
          "output_type": "stream",
          "text": [
            "Model: \"sequential_2\"\n",
            "_________________________________________________________________\n",
            "Layer (type)                 Output Shape              Param #   \n",
            "=================================================================\n",
            "conv2d_5 (Conv2D)            (None, 26, 26, 32)        320       \n",
            "_________________________________________________________________\n",
            "max_pooling2d_3 (MaxPooling2 (None, 13, 13, 32)        0         \n",
            "=================================================================\n",
            "Total params: 320\n",
            "Trainable params: 320\n",
            "Non-trainable params: 0\n",
            "_________________________________________________________________\n"
          ],
          "name": "stdout"
        }
      ]
    },
    {
      "cell_type": "markdown",
      "metadata": {
        "id": "wLF1QiUQu8f8",
        "colab_type": "text"
      },
      "source": [
        "2nd Convolution layer :"
      ]
    },
    {
      "cell_type": "code",
      "metadata": {
        "id": "2XhIkFCkeBci",
        "colab_type": "code",
        "colab": {
          "base_uri": "https://localhost:8080/",
          "height": 255
        },
        "outputId": "047e5c63-0e84-4e63-8345-459b297538f1"
      },
      "source": [
        "model.add(layers.Conv2D(64, (3, 3), activation='relu'))\n",
        "model.summary()"
      ],
      "execution_count": 39,
      "outputs": [
        {
          "output_type": "stream",
          "text": [
            "Model: \"sequential_2\"\n",
            "_________________________________________________________________\n",
            "Layer (type)                 Output Shape              Param #   \n",
            "=================================================================\n",
            "conv2d_5 (Conv2D)            (None, 26, 26, 32)        320       \n",
            "_________________________________________________________________\n",
            "max_pooling2d_3 (MaxPooling2 (None, 13, 13, 32)        0         \n",
            "_________________________________________________________________\n",
            "conv2d_6 (Conv2D)            (None, 11, 11, 64)        18496     \n",
            "=================================================================\n",
            "Total params: 18,816\n",
            "Trainable params: 18,816\n",
            "Non-trainable params: 0\n",
            "_________________________________________________________________\n"
          ],
          "name": "stdout"
        }
      ]
    },
    {
      "cell_type": "markdown",
      "metadata": {
        "id": "8fVnbsSLvBkk",
        "colab_type": "text"
      },
      "source": [
        "2nd Pooling layer -"
      ]
    },
    {
      "cell_type": "code",
      "metadata": {
        "id": "YBNZlfUqeb50",
        "colab_type": "code",
        "colab": {
          "base_uri": "https://localhost:8080/",
          "height": 289
        },
        "outputId": "90d62c8f-248f-4aa1-86de-191810032db0"
      },
      "source": [
        "model.add(layers.MaxPooling2D((2, 2)))\n",
        "model.summary()"
      ],
      "execution_count": 40,
      "outputs": [
        {
          "output_type": "stream",
          "text": [
            "Model: \"sequential_2\"\n",
            "_________________________________________________________________\n",
            "Layer (type)                 Output Shape              Param #   \n",
            "=================================================================\n",
            "conv2d_5 (Conv2D)            (None, 26, 26, 32)        320       \n",
            "_________________________________________________________________\n",
            "max_pooling2d_3 (MaxPooling2 (None, 13, 13, 32)        0         \n",
            "_________________________________________________________________\n",
            "conv2d_6 (Conv2D)            (None, 11, 11, 64)        18496     \n",
            "_________________________________________________________________\n",
            "max_pooling2d_4 (MaxPooling2 (None, 5, 5, 64)          0         \n",
            "=================================================================\n",
            "Total params: 18,816\n",
            "Trainable params: 18,816\n",
            "Non-trainable params: 0\n",
            "_________________________________________________________________\n"
          ],
          "name": "stdout"
        }
      ]
    },
    {
      "cell_type": "markdown",
      "metadata": {
        "id": "33g8im1cvGwy",
        "colab_type": "text"
      },
      "source": [
        "3rd Convolution layer -"
      ]
    },
    {
      "cell_type": "code",
      "metadata": {
        "id": "Z03zZ860et7j",
        "colab_type": "code",
        "colab": {
          "base_uri": "https://localhost:8080/",
          "height": 323
        },
        "outputId": "d82d16f7-fe53-445b-afa1-64842d32ff13"
      },
      "source": [
        "model.add(layers.Conv2D(64, (3, 3), activation='relu'))\n",
        "model.summary()"
      ],
      "execution_count": 41,
      "outputs": [
        {
          "output_type": "stream",
          "text": [
            "Model: \"sequential_2\"\n",
            "_________________________________________________________________\n",
            "Layer (type)                 Output Shape              Param #   \n",
            "=================================================================\n",
            "conv2d_5 (Conv2D)            (None, 26, 26, 32)        320       \n",
            "_________________________________________________________________\n",
            "max_pooling2d_3 (MaxPooling2 (None, 13, 13, 32)        0         \n",
            "_________________________________________________________________\n",
            "conv2d_6 (Conv2D)            (None, 11, 11, 64)        18496     \n",
            "_________________________________________________________________\n",
            "max_pooling2d_4 (MaxPooling2 (None, 5, 5, 64)          0         \n",
            "_________________________________________________________________\n",
            "conv2d_7 (Conv2D)            (None, 3, 3, 64)          36928     \n",
            "=================================================================\n",
            "Total params: 55,744\n",
            "Trainable params: 55,744\n",
            "Non-trainable params: 0\n",
            "_________________________________________________________________\n"
          ],
          "name": "stdout"
        }
      ]
    },
    {
      "cell_type": "markdown",
      "metadata": {
        "id": "Fe3-esKxvOiZ",
        "colab_type": "text"
      },
      "source": [
        "Flattening the data and adding a Dense layer -"
      ]
    },
    {
      "cell_type": "code",
      "metadata": {
        "id": "lZTgtKYPezji",
        "colab_type": "code",
        "colab": {
          "base_uri": "https://localhost:8080/",
          "height": 391
        },
        "outputId": "70dca468-501e-4007-ed75-8e4d17ccef0f"
      },
      "source": [
        "model.add(layers.Flatten())\n",
        "model.add(layers.Dense(64, activation='relu'))\n",
        "model.summary()"
      ],
      "execution_count": 42,
      "outputs": [
        {
          "output_type": "stream",
          "text": [
            "Model: \"sequential_2\"\n",
            "_________________________________________________________________\n",
            "Layer (type)                 Output Shape              Param #   \n",
            "=================================================================\n",
            "conv2d_5 (Conv2D)            (None, 26, 26, 32)        320       \n",
            "_________________________________________________________________\n",
            "max_pooling2d_3 (MaxPooling2 (None, 13, 13, 32)        0         \n",
            "_________________________________________________________________\n",
            "conv2d_6 (Conv2D)            (None, 11, 11, 64)        18496     \n",
            "_________________________________________________________________\n",
            "max_pooling2d_4 (MaxPooling2 (None, 5, 5, 64)          0         \n",
            "_________________________________________________________________\n",
            "conv2d_7 (Conv2D)            (None, 3, 3, 64)          36928     \n",
            "_________________________________________________________________\n",
            "flatten_2 (Flatten)          (None, 576)               0         \n",
            "_________________________________________________________________\n",
            "dense_3 (Dense)              (None, 64)                36928     \n",
            "=================================================================\n",
            "Total params: 92,672\n",
            "Trainable params: 92,672\n",
            "Non-trainable params: 0\n",
            "_________________________________________________________________\n"
          ],
          "name": "stdout"
        }
      ]
    },
    {
      "cell_type": "markdown",
      "metadata": {
        "id": "F30Mw_QMvivI",
        "colab_type": "text"
      },
      "source": [
        "Adding 2nd Dense layer -"
      ]
    },
    {
      "cell_type": "code",
      "metadata": {
        "id": "xWxI-wjQfbDU",
        "colab_type": "code",
        "colab": {
          "base_uri": "https://localhost:8080/",
          "height": 425
        },
        "outputId": "c18e5093-ae52-48f4-cdf2-0cd1f0768a99"
      },
      "source": [
        "model.add(layers.Dense(10, activation='softmax'))\n",
        "model.summary()"
      ],
      "execution_count": 43,
      "outputs": [
        {
          "output_type": "stream",
          "text": [
            "Model: \"sequential_2\"\n",
            "_________________________________________________________________\n",
            "Layer (type)                 Output Shape              Param #   \n",
            "=================================================================\n",
            "conv2d_5 (Conv2D)            (None, 26, 26, 32)        320       \n",
            "_________________________________________________________________\n",
            "max_pooling2d_3 (MaxPooling2 (None, 13, 13, 32)        0         \n",
            "_________________________________________________________________\n",
            "conv2d_6 (Conv2D)            (None, 11, 11, 64)        18496     \n",
            "_________________________________________________________________\n",
            "max_pooling2d_4 (MaxPooling2 (None, 5, 5, 64)          0         \n",
            "_________________________________________________________________\n",
            "conv2d_7 (Conv2D)            (None, 3, 3, 64)          36928     \n",
            "_________________________________________________________________\n",
            "flatten_2 (Flatten)          (None, 576)               0         \n",
            "_________________________________________________________________\n",
            "dense_3 (Dense)              (None, 64)                36928     \n",
            "_________________________________________________________________\n",
            "dense_4 (Dense)              (None, 10)                650       \n",
            "=================================================================\n",
            "Total params: 93,322\n",
            "Trainable params: 93,322\n",
            "Non-trainable params: 0\n",
            "_________________________________________________________________\n"
          ],
          "name": "stdout"
        }
      ]
    },
    {
      "cell_type": "markdown",
      "metadata": {
        "id": "FvEjot3wvp9p",
        "colab_type": "text"
      },
      "source": [
        "### Training the model :"
      ]
    },
    {
      "cell_type": "code",
      "metadata": {
        "id": "ptxqJ7wGgDh8",
        "colab_type": "code",
        "colab": {}
      },
      "source": [
        "model.compile(loss='categorical_crossentropy', optimizer='rmsprop', metrics=['accuracy'])"
      ],
      "execution_count": 44,
      "outputs": []
    },
    {
      "cell_type": "code",
      "metadata": {
        "id": "QshtH_XEgq5F",
        "colab_type": "code",
        "colab": {
          "base_uri": "https://localhost:8080/",
          "height": 1000
        },
        "outputId": "559d03ff-0bbf-4903-fb5c-8120a4b4bf25"
      },
      "source": [
        "model.fit(train_images, train_labels, epochs=50, batch_size=64)"
      ],
      "execution_count": 45,
      "outputs": [
        {
          "output_type": "stream",
          "text": [
            "Epoch 1/50\n",
            "60000/60000 [==============================] - 15s 245us/step - loss: 0.1676 - accuracy: 0.9476\n",
            "Epoch 2/50\n",
            "60000/60000 [==============================] - 9s 142us/step - loss: 0.0469 - accuracy: 0.9856\n",
            "Epoch 3/50\n",
            "60000/60000 [==============================] - 9s 142us/step - loss: 0.0323 - accuracy: 0.9902\n",
            "Epoch 4/50\n",
            "60000/60000 [==============================] - 8s 141us/step - loss: 0.0240 - accuracy: 0.9928\n",
            "Epoch 5/50\n",
            "60000/60000 [==============================] - 9s 142us/step - loss: 0.0188 - accuracy: 0.9939\n",
            "Epoch 6/50\n",
            "60000/60000 [==============================] - 9s 142us/step - loss: 0.0159 - accuracy: 0.9952\n",
            "Epoch 7/50\n",
            "60000/60000 [==============================] - 9s 142us/step - loss: 0.0135 - accuracy: 0.9960\n",
            "Epoch 8/50\n",
            "60000/60000 [==============================] - 8s 140us/step - loss: 0.0105 - accuracy: 0.9970\n",
            "Epoch 9/50\n",
            "60000/60000 [==============================] - 9s 143us/step - loss: 0.0087 - accuracy: 0.9974\n",
            "Epoch 10/50\n",
            "60000/60000 [==============================] - 8s 141us/step - loss: 0.0079 - accuracy: 0.9976\n",
            "Epoch 11/50\n",
            "60000/60000 [==============================] - 9s 143us/step - loss: 0.0072 - accuracy: 0.9979\n",
            "Epoch 12/50\n",
            "60000/60000 [==============================] - 8s 140us/step - loss: 0.0061 - accuracy: 0.9984\n",
            "Epoch 13/50\n",
            "60000/60000 [==============================] - 8s 141us/step - loss: 0.0048 - accuracy: 0.9986\n",
            "Epoch 14/50\n",
            "60000/60000 [==============================] - 8s 141us/step - loss: 0.0062 - accuracy: 0.9982\n",
            "Epoch 15/50\n",
            "60000/60000 [==============================] - 9s 143us/step - loss: 0.0044 - accuracy: 0.9988\n",
            "Epoch 16/50\n",
            "60000/60000 [==============================] - 8s 141us/step - loss: 0.0046 - accuracy: 0.9986\n",
            "Epoch 17/50\n",
            "60000/60000 [==============================] - 8s 140us/step - loss: 0.0042 - accuracy: 0.9988\n",
            "Epoch 18/50\n",
            "60000/60000 [==============================] - 9s 142us/step - loss: 0.0038 - accuracy: 0.9989\n",
            "Epoch 19/50\n",
            "60000/60000 [==============================] - 8s 141us/step - loss: 0.0042 - accuracy: 0.9989\n",
            "Epoch 20/50\n",
            "60000/60000 [==============================] - 8s 140us/step - loss: 0.0031 - accuracy: 0.9992\n",
            "Epoch 21/50\n",
            "60000/60000 [==============================] - 8s 141us/step - loss: 0.0022 - accuracy: 0.9994\n",
            "Epoch 22/50\n",
            "60000/60000 [==============================] - 8s 140us/step - loss: 0.0033 - accuracy: 0.9991\n",
            "Epoch 23/50\n",
            "60000/60000 [==============================] - 9s 145us/step - loss: 0.0031 - accuracy: 0.9993\n",
            "Epoch 24/50\n",
            "60000/60000 [==============================] - 9s 150us/step - loss: 0.0023 - accuracy: 0.9994\n",
            "Epoch 25/50\n",
            "60000/60000 [==============================] - 9s 158us/step - loss: 0.0038 - accuracy: 0.9990\n",
            "Epoch 26/50\n",
            "60000/60000 [==============================] - 9s 149us/step - loss: 0.0035 - accuracy: 0.9993\n",
            "Epoch 27/50\n",
            "60000/60000 [==============================] - 9s 146us/step - loss: 0.0030 - accuracy: 0.9992\n",
            "Epoch 28/50\n",
            "60000/60000 [==============================] - 9s 148us/step - loss: 0.0038 - accuracy: 0.9992\n",
            "Epoch 29/50\n",
            "60000/60000 [==============================] - 9s 148us/step - loss: 0.0024 - accuracy: 0.9994\n",
            "Epoch 30/50\n",
            "60000/60000 [==============================] - 9s 148us/step - loss: 0.0034 - accuracy: 0.9992\n",
            "Epoch 31/50\n",
            "60000/60000 [==============================] - 9s 147us/step - loss: 0.0030 - accuracy: 0.9993\n",
            "Epoch 32/50\n",
            "60000/60000 [==============================] - 9s 148us/step - loss: 0.0023 - accuracy: 0.9996\n",
            "Epoch 33/50\n",
            "60000/60000 [==============================] - 9s 147us/step - loss: 0.0029 - accuracy: 0.9995\n",
            "Epoch 34/50\n",
            "60000/60000 [==============================] - 9s 149us/step - loss: 0.0019 - accuracy: 0.9995\n",
            "Epoch 35/50\n",
            "60000/60000 [==============================] - 9s 148us/step - loss: 0.0034 - accuracy: 0.9994\n",
            "Epoch 36/50\n",
            "60000/60000 [==============================] - 9s 148us/step - loss: 0.0018 - accuracy: 0.9996\n",
            "Epoch 37/50\n",
            "60000/60000 [==============================] - 9s 149us/step - loss: 0.0017 - accuracy: 0.9996\n",
            "Epoch 38/50\n",
            "60000/60000 [==============================] - 9s 147us/step - loss: 0.0032 - accuracy: 0.9995\n",
            "Epoch 39/50\n",
            "60000/60000 [==============================] - 9s 147us/step - loss: 0.0014 - accuracy: 0.9997\n",
            "Epoch 40/50\n",
            "60000/60000 [==============================] - 9s 149us/step - loss: 0.0018 - accuracy: 0.9997\n",
            "Epoch 41/50\n",
            "60000/60000 [==============================] - 9s 149us/step - loss: 0.0020 - accuracy: 0.9997\n",
            "Epoch 42/50\n",
            "60000/60000 [==============================] - 9s 150us/step - loss: 0.0024 - accuracy: 0.9996\n",
            "Epoch 43/50\n",
            "60000/60000 [==============================] - 9s 148us/step - loss: 0.0023 - accuracy: 0.9995\n",
            "Epoch 44/50\n",
            "60000/60000 [==============================] - 9s 148us/step - loss: 0.0017 - accuracy: 0.9995\n",
            "Epoch 45/50\n",
            "60000/60000 [==============================] - 9s 149us/step - loss: 0.0018 - accuracy: 0.9997\n",
            "Epoch 46/50\n",
            "60000/60000 [==============================] - 9s 148us/step - loss: 0.0024 - accuracy: 0.9996\n",
            "Epoch 47/50\n",
            "60000/60000 [==============================] - 9s 148us/step - loss: 0.0017 - accuracy: 0.9997\n",
            "Epoch 48/50\n",
            "60000/60000 [==============================] - 9s 149us/step - loss: 0.0025 - accuracy: 0.9995\n",
            "Epoch 49/50\n",
            "60000/60000 [==============================] - 9s 147us/step - loss: 0.0021 - accuracy: 0.9997\n",
            "Epoch 50/50\n",
            "60000/60000 [==============================] - 9s 147us/step - loss: 0.0022 - accuracy: 0.9996\n"
          ],
          "name": "stdout"
        },
        {
          "output_type": "execute_result",
          "data": {
            "text/plain": [
              "<keras.callbacks.callbacks.History at 0x7f33f02f99e8>"
            ]
          },
          "metadata": {
            "tags": []
          },
          "execution_count": 45
        }
      ]
    },
    {
      "cell_type": "markdown",
      "metadata": {
        "id": "rEaHp7dTsK3S",
        "colab_type": "text"
      },
      "source": [
        "### Accuracy of the model :"
      ]
    },
    {
      "cell_type": "code",
      "metadata": {
        "id": "xa0h9iqohARX",
        "colab_type": "code",
        "colab": {
          "base_uri": "https://localhost:8080/",
          "height": 34
        },
        "outputId": "e4279b19-eaf9-44fc-981b-a475e392324d"
      },
      "source": [
        "test_loss, test_accuracy = model.evaluate(test_images, test_labels)"
      ],
      "execution_count": 46,
      "outputs": [
        {
          "output_type": "stream",
          "text": [
            "10000/10000 [==============================] - 1s 121us/step\n"
          ],
          "name": "stdout"
        }
      ]
    },
    {
      "cell_type": "code",
      "metadata": {
        "id": "EvIAmG2s-VW5",
        "colab_type": "code",
        "colab": {
          "base_uri": "https://localhost:8080/",
          "height": 34
        },
        "outputId": "43008dec-4483-4825-f301-8077ae4ab6e9"
      },
      "source": [
        "test_accuracy"
      ],
      "execution_count": 47,
      "outputs": [
        {
          "output_type": "execute_result",
          "data": {
            "text/plain": [
              "0.9937999844551086"
            ]
          },
          "metadata": {
            "tags": []
          },
          "execution_count": 47
        }
      ]
    },
    {
      "cell_type": "code",
      "metadata": {
        "id": "CO0JYrVR-XMB",
        "colab_type": "code",
        "colab": {
          "base_uri": "https://localhost:8080/",
          "height": 34
        },
        "outputId": "cbb15eb5-8008-4671-e55d-925423d4367a"
      },
      "source": [
        "test_loss"
      ],
      "execution_count": 48,
      "outputs": [
        {
          "output_type": "execute_result",
          "data": {
            "text/plain": [
              "0.12707507351837502"
            ]
          },
          "metadata": {
            "tags": []
          },
          "execution_count": 48
        }
      ]
    },
    {
      "cell_type": "markdown",
      "metadata": {
        "id": "FQidxXz6sgoN",
        "colab_type": "text"
      },
      "source": [
        "### Checking predictions for the testing data :"
      ]
    },
    {
      "cell_type": "code",
      "metadata": {
        "id": "YETUOCfBuCet",
        "colab_type": "code",
        "colab": {
          "base_uri": "https://localhost:8080/",
          "height": 204
        },
        "outputId": "7651610a-05ab-4e36-b5ba-ddeb6062c76d"
      },
      "source": [
        "predictions = model.predict_classes(test_images)\n",
        "p = pd.DataFrame(list(zip(test_labels_original,predictions)), columns = ['original_digit','predicted_digit'])\n",
        "p.head()"
      ],
      "execution_count": 49,
      "outputs": [
        {
          "output_type": "execute_result",
          "data": {
            "text/html": [
              "<div>\n",
              "<style scoped>\n",
              "    .dataframe tbody tr th:only-of-type {\n",
              "        vertical-align: middle;\n",
              "    }\n",
              "\n",
              "    .dataframe tbody tr th {\n",
              "        vertical-align: top;\n",
              "    }\n",
              "\n",
              "    .dataframe thead th {\n",
              "        text-align: right;\n",
              "    }\n",
              "</style>\n",
              "<table border=\"1\" class=\"dataframe\">\n",
              "  <thead>\n",
              "    <tr style=\"text-align: right;\">\n",
              "      <th></th>\n",
              "      <th>original_digit</th>\n",
              "      <th>predicted_digit</th>\n",
              "    </tr>\n",
              "  </thead>\n",
              "  <tbody>\n",
              "    <tr>\n",
              "      <th>0</th>\n",
              "      <td>7</td>\n",
              "      <td>7</td>\n",
              "    </tr>\n",
              "    <tr>\n",
              "      <th>1</th>\n",
              "      <td>2</td>\n",
              "      <td>2</td>\n",
              "    </tr>\n",
              "    <tr>\n",
              "      <th>2</th>\n",
              "      <td>1</td>\n",
              "      <td>1</td>\n",
              "    </tr>\n",
              "    <tr>\n",
              "      <th>3</th>\n",
              "      <td>0</td>\n",
              "      <td>0</td>\n",
              "    </tr>\n",
              "    <tr>\n",
              "      <th>4</th>\n",
              "      <td>4</td>\n",
              "      <td>4</td>\n",
              "    </tr>\n",
              "  </tbody>\n",
              "</table>\n",
              "</div>"
            ],
            "text/plain": [
              "   original_digit  predicted_digit\n",
              "0               7                7\n",
              "1               2                2\n",
              "2               1                1\n",
              "3               0                0\n",
              "4               4                4"
            ]
          },
          "metadata": {
            "tags": []
          },
          "execution_count": 49
        }
      ]
    },
    {
      "cell_type": "markdown",
      "metadata": {
        "id": "5o4gYhnxwhDb",
        "colab_type": "text"
      },
      "source": [
        "##**Predicting user provided images -**"
      ]
    },
    {
      "cell_type": "code",
      "metadata": {
        "id": "SHYbv2cwTjID",
        "colab_type": "code",
        "colab": {
          "base_uri": "https://localhost:8080/",
          "height": 51
        },
        "outputId": "244ea6ed-0dca-4d7c-b485-4ca0854d3d93"
      },
      "source": [
        "img = image.load_img(path=\"/content/drive/My Drive/Colab Notebooks/Digit-Prediction-Images/newimg.jpg\",grayscale=True,target_size=(28,28,1))\n",
        "test_img = image.img_to_array(img)\n",
        "test_img = test_img.reshape((1,28,28,1))\n",
        "test_img = test_img.astype('float')/255 #normalization\n",
        "prediction = model.predict_classes(test_img)[0]"
      ],
      "execution_count": 50,
      "outputs": [
        {
          "output_type": "stream",
          "text": [
            "/usr/local/lib/python3.6/dist-packages/keras_preprocessing/image/utils.py:107: UserWarning: grayscale is deprecated. Please use color_mode = \"grayscale\"\n",
            "  warnings.warn('grayscale is deprecated. Please use '\n"
          ],
          "name": "stderr"
        }
      ]
    },
    {
      "cell_type": "code",
      "metadata": {
        "id": "z3kup4aG6p24",
        "colab_type": "code",
        "colab": {
          "base_uri": "https://localhost:8080/",
          "height": 303
        },
        "outputId": "ae100092-6c69-4b28-d11f-0af856a8be6f"
      },
      "source": [
        "print('Original Image : -')\n",
        "plt.imshow(image.load_img(path=\"/content/drive/My Drive/Colab Notebooks/Digit-Prediction-Images/newimg.jpg\"))"
      ],
      "execution_count": 51,
      "outputs": [
        {
          "output_type": "stream",
          "text": [
            "Original Image : -\n"
          ],
          "name": "stdout"
        },
        {
          "output_type": "execute_result",
          "data": {
            "text/plain": [
              "<matplotlib.image.AxesImage at 0x7f33f00550f0>"
            ]
          },
          "metadata": {
            "tags": []
          },
          "execution_count": 51
        },
        {
          "output_type": "display_data",
          "data": {
            "image/png": "[encoded data removed]",
            "text/plain": [
              "<Figure size 432x288 with 1 Axes>"
            ]
          },
          "metadata": {
            "tags": [],
            "needs_background": "light"
          }
        }
      ]
    },
    {
      "cell_type": "code",
      "metadata": {
        "id": "M9gG-_Nxru2W",
        "colab_type": "code",
        "colab": {
          "base_uri": "https://localhost:8080/",
          "height": 34
        },
        "outputId": "aac8ce70-829e-4e88-c3a3-cdb1a6e4a30e"
      },
      "source": [
        "print('Predicted = ',prediction)"
      ],
      "execution_count": 52,
      "outputs": [
        {
          "output_type": "stream",
          "text": [
            "Predicted =  2\n"
          ],
          "name": "stdout"
        }
      ]
    },
    {
      "cell_type": "code",
      "metadata": {
        "colab_type": "code",
        "id": "yI60qFgER3Tr",
        "colab": {
          "base_uri": "https://localhost:8080/",
          "height": 51
        },
        "outputId": "decc92f5-78fe-45c9-e871-95ce7095c2c9"
      },
      "source": [
        "img = image.load_img(path=\"/content/drive/My Drive/Colab Notebooks/Digit-Prediction-Images/11111.jpg\",grayscale=True,target_size=(28,28,1))\n",
        "test_img = image.img_to_array(img)\n",
        "test_img = test_img.reshape((1,28,28,1))\n",
        "test_img = test_img.astype('float')/255 #normalization\n",
        "prediction = model.predict_classes(test_img)[0]"
      ],
      "execution_count": 53,
      "outputs": [
        {
          "output_type": "stream",
          "text": [
            "/usr/local/lib/python3.6/dist-packages/keras_preprocessing/image/utils.py:107: UserWarning: grayscale is deprecated. Please use color_mode = \"grayscale\"\n",
            "  warnings.warn('grayscale is deprecated. Please use '\n"
          ],
          "name": "stderr"
        }
      ]
    },
    {
      "cell_type": "code",
      "metadata": {
        "colab_type": "code",
        "id": "RXTEsrXDR6Rs",
        "colab": {
          "base_uri": "https://localhost:8080/",
          "height": 303
        },
        "outputId": "60145b36-f43a-4972-9f66-66bd1d8f2b6f"
      },
      "source": [
        "print('Original Image : -')\n",
        "plt.imshow(image.load_img(path=\"/content/drive/My Drive/Colab Notebooks/Digit-Prediction-Images/11111.jpg\"))"
      ],
      "execution_count": 54,
      "outputs": [
        {
          "output_type": "stream",
          "text": [
            "Original Image : -\n"
          ],
          "name": "stdout"
        },
        {
          "output_type": "execute_result",
          "data": {
            "text/plain": [
              "<matplotlib.image.AxesImage at 0x7f33a68b47f0>"
            ]
          },
          "metadata": {
            "tags": []
          },
          "execution_count": 54
        },
        {
          "output_type": "display_data",
          "data": {
            "image/png": "[encoded data removed]",
            "text/plain": [
              "<Figure size 432x288 with 1 Axes>"
            ]
          },
          "metadata": {
            "tags": [],
            "needs_background": "light"
          }
        }
      ]
    },
    {
      "cell_type": "code",
      "metadata": {
        "colab_type": "code",
        "id": "JGdU5NUxR-Jp",
        "colab": {
          "base_uri": "https://localhost:8080/",
          "height": 34
        },
        "outputId": "3b022659-02ca-4176-c40e-f314cc9b3a3d"
      },
      "source": [
        "print('Predicted = ',prediction)"
      ],
      "execution_count": 55,
      "outputs": [
        {
          "output_type": "stream",
          "text": [
            "Predicted =  3\n"
          ],
          "name": "stdout"
        }
      ]
    },
    {
      "cell_type": "code",
      "metadata": {
        "colab_type": "code",
        "id": "ErtKJsjq8IG0",
        "colab": {}
      },
      "source": [
        "img = image.load_img(path=\"/content/drive/My Drive/Colab Notebooks/Digit-Prediction-Images/11112.jpg\",color_mode = \"grayscale\",target_size=(28,28,1))\n",
        "test_img = image.img_to_array(img)\n",
        "test_img = test_img.reshape((1,28,28,1))\n",
        "test_img = test_img.astype('float')/255 #normalization\n",
        "prediction = model.predict_classes(test_img)[0]"
      ],
      "execution_count": 56,
      "outputs": []
    },
    {
      "cell_type": "code",
      "metadata": {
        "colab_type": "code",
        "id": "SRa7wrNN8a7E",
        "colab": {
          "base_uri": "https://localhost:8080/",
          "height": 303
        },
        "outputId": "3835f9a6-9e45-446c-d946-81ae61b07d30"
      },
      "source": [
        "print('Original Image : -')\n",
        "plt.imshow(image.load_img(path=\"/content/drive/My Drive/Colab Notebooks/Digit-Prediction-Images/11112.jpg\"))"
      ],
      "execution_count": 57,
      "outputs": [
        {
          "output_type": "stream",
          "text": [
            "Original Image : -\n"
          ],
          "name": "stdout"
        },
        {
          "output_type": "execute_result",
          "data": {
            "text/plain": [
              "<matplotlib.image.AxesImage at 0x7f33a678ceb8>"
            ]
          },
          "metadata": {
            "tags": []
          },
          "execution_count": 57
        },
        {
          "output_type": "display_data",
          "data": {
            "image/png": "[encoded data removed]",
            "text/plain": [
              "<Figure size 432x288 with 1 Axes>"
            ]
          },
          "metadata": {
            "tags": [],
            "needs_background": "light"
          }
        }
      ]
    },
    {
      "cell_type": "code",
      "metadata": {
        "colab_type": "code",
        "id": "P5VpO2jr9fPH",
        "colab": {
          "base_uri": "https://localhost:8080/",
          "height": 34
        },
        "outputId": "a1178012-b82e-4449-bce0-5e890e1ca992"
      },
      "source": [
        "print('Predicted = ',prediction)"
      ],
      "execution_count": 58,
      "outputs": [
        {
          "output_type": "stream",
          "text": [
            "Predicted =  1\n"
          ],
          "name": "stdout"
        }
      ]
    },
    {
      "cell_type": "code",
      "metadata": {
        "colab_type": "code",
        "id": "YSu5_eLDNgHv",
        "colab": {
          "base_uri": "https://localhost:8080/",
          "height": 51
        },
        "outputId": "1fba062b-8198-4cbb-edcb-01b86819acd3"
      },
      "source": [
        "img = image.load_img(path=\"/content/drive/My Drive/Colab Notebooks/Digit-Prediction-Images/11113.jpg\",grayscale=True,target_size=(28,28,1))\n",
        "test_img = image.img_to_array(img)\n",
        "test_img = test_img.reshape((1,28,28,1))\n",
        "test_img = test_img.astype('float')/255 #normalization\n",
        "prediction = model.predict_classes(test_img)[0]"
      ],
      "execution_count": 59,
      "outputs": [
        {
          "output_type": "stream",
          "text": [
            "/usr/local/lib/python3.6/dist-packages/keras_preprocessing/image/utils.py:107: UserWarning: grayscale is deprecated. Please use color_mode = \"grayscale\"\n",
            "  warnings.warn('grayscale is deprecated. Please use '\n"
          ],
          "name": "stderr"
        }
      ]
    },
    {
      "cell_type": "code",
      "metadata": {
        "colab_type": "code",
        "id": "Me8Y3kryNjAB",
        "colab": {
          "base_uri": "https://localhost:8080/",
          "height": 303
        },
        "outputId": "0fb52b7c-fbca-4e42-e430-a1ae392240d8"
      },
      "source": [
        "print('Original Image : -')\n",
        "plt.imshow(image.load_img(path=\"/content/drive/My Drive/Colab Notebooks/Digit-Prediction-Images/11113.jpg\"))"
      ],
      "execution_count": 60,
      "outputs": [
        {
          "output_type": "stream",
          "text": [
            "Original Image : -\n"
          ],
          "name": "stdout"
        },
        {
          "output_type": "execute_result",
          "data": {
            "text/plain": [
              "<matplotlib.image.AxesImage at 0x7f33a676d278>"
            ]
          },
          "metadata": {
            "tags": []
          },
          "execution_count": 60
        },
        {
          "output_type": "display_data",
          "data": {
            "image/png": "[encoded data removed]",
            "text/plain": [
              "<Figure size 432x288 with 1 Axes>"
            ]
          },
          "metadata": {
            "tags": [],
            "needs_background": "light"
          }
        }
      ]
    },
    {
      "cell_type": "code",
      "metadata": {
        "colab_type": "code",
        "id": "iuBjulbLNlyX",
        "colab": {
          "base_uri": "https://localhost:8080/",
          "height": 34
        },
        "outputId": "51d6103e-e92f-4d41-c512-b326d9c3f8ae"
      },
      "source": [
        "print('Predicted = ',prediction)"
      ],
      "execution_count": 61,
      "outputs": [
        {
          "output_type": "stream",
          "text": [
            "Predicted =  5\n"
          ],
          "name": "stdout"
        }
      ]
    }
  ]
}